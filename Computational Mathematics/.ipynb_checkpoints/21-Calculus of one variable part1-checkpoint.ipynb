{
 "cells": [
  {
   "cell_type": "markdown",
   "id": "3737a368-0d19-40f0-86f8-1dc4c3212a13",
   "metadata": {
    "tags": []
   },
   "source": [
    "# Computer Algebra System (CAS)"
   ]
  },
  {
   "cell_type": "markdown",
   "id": "ed67799d-c584-439e-88bb-0c6bbd73d89e",
   "metadata": {
    "tags": []
   },
   "source": [
    " ## One Variable Calculus with SageMath - Part 1\n",
    " **Example:** Explore the function $f(x) = x sin(2x) + x^2 exp(-x) + x^2 - x + 3$"
   ]
  },
  {
   "cell_type": "code",
   "execution_count": 7,
   "id": "243945ab-d8d7-42c3-845f-e574fcbb5df5",
   "metadata": {
    "tags": []
   },
   "outputs": [
    {
     "data": {
      "text/html": [
       "<html>\\(\\displaystyle f: x \\ {\\mapsto}\\ x^{2} e^{\\left(-x\\right)} + x^{2} \\sin\\left(2 \\, x\\right) + x^{2} - x + 3\\)</html>"
      ],
      "text/latex": [
       "$\\displaystyle f: x \\ {\\mapsto}\\ x^{2} e^{\\left(-x\\right)} + x^{2} \\sin\\left(2 \\, x\\right) + x^{2} - x + 3$"
      ],
      "text/plain": [
       "f: x \\ {\\mapsto}\\ x^{2} e^{\\left(-x\\right)} + x^{2} \\sin\\left(2 \\, x\\right) + x^{2} - x + 3"
      ]
     },
     "metadata": {},
     "output_type": "display_data"
    }
   ],
   "source": [
    "var('x')\n",
    "f(x)=x^2*sin(2*x)+x^2*exp(-x)+x^2-x+3\n",
    "show('f:' + latex(f))"
   ]
  },
  {
   "cell_type": "markdown",
   "id": "9b97b39b-15f0-48bd-9117-f29e641ecfc2",
   "metadata": {},
   "source": [
    "Type the newly defined function f followed by a period and type the TAB key to see possible completions."
   ]
  },
  {
   "cell_type": "code",
   "execution_count": 8,
   "id": "d77fd2ed-2e6d-49af-bf66-e048b99e43d6",
   "metadata": {},
   "outputs": [],
   "source": [
    "#f.TAB"
   ]
  },
  {
   "cell_type": "code",
   "execution_count": 9,
   "id": "a0a9e601-5a5b-4a3c-9934-4d64a9f22ccd",
   "metadata": {},
   "outputs": [
    {
     "data": {
      "text/plain": [
       "-1/3*pi + 1/9*pi^2*e^(-1/3*pi) + 1/18*sqrt(3)*pi^2 + 1/9*pi^2 + 3"
      ]
     },
     "execution_count": 9,
     "metadata": {},
     "output_type": "execute_result"
    }
   ],
   "source": [
    "f(pi/3)"
   ]
  },
  {
   "cell_type": "code",
   "execution_count": 10,
   "id": "46f6198a-5fa3-4d7e-a550-9cf01f1a319a",
   "metadata": {
    "tags": []
   },
   "outputs": [
    {
     "data": {
      "text/plain": [
       "4.38395491670262"
      ]
     },
     "execution_count": 10,
     "metadata": {},
     "output_type": "execute_result"
    }
   ],
   "source": [
    "f(pi/3).n()"
   ]
  },
  {
   "cell_type": "code",
   "execution_count": 13,
   "id": "feffdaba-2c14-4987-a0d0-8b435025f63d",
   "metadata": {
    "tags": []
   },
   "outputs": [
    {
     "data": {
      "image/png": "[encoded data removed]",
      "text/plain": [
       "Graphics object consisting of 1 graphics primitive"
      ]
     },
     "execution_count": 13,
     "metadata": {},
     "output_type": "execute_result"
    }
   ],
   "source": [
    "f.plot(-1, 30, figsize=5)\n",
    "#f.plot(-20, 30, figsize=5)"
   ]
  },
  {
   "cell_type": "markdown",
   "id": "3042da81-816b-428e-a117-58c3083a7766",
   "metadata": {
    "tags": []
   },
   "source": [
    "What happends to the function as x goes to -infinity?"
   ]
  },
  {
   "cell_type": "code",
   "execution_count": 15,
   "id": "dc45c357-0dac-4207-8997-d4acf032ba01",
   "metadata": {
    "tags": []
   },
   "outputs": [
    {
     "data": {
      "text/plain": [
       "x |--> +Infinity"
      ]
     },
     "execution_count": 15,
     "metadata": {},
     "output_type": "execute_result"
    }
   ],
   "source": [
    "a = -infinity # or a = -oo\n",
    "f.limit(x=a, dir='-') # '-' means left hand limit"
   ]
  },
  {
   "cell_type": "code",
   "execution_count": 16,
   "id": "124ec140-8a3c-40a4-aa3d-f611c01c296a",
   "metadata": {
    "tags": []
   },
   "outputs": [
    {
     "data": {
      "text/plain": [
       "x |--> +Infinity"
      ]
     },
     "execution_count": 16,
     "metadata": {},
     "output_type": "execute_result"
    }
   ],
   "source": [
    "a = oo # or a = infinity\n",
    "f.limit(x=a) "
   ]
  },
  {
   "cell_type": "markdown",
   "id": "2cb8ba1e-6889-44bd-a48c-c309b359c42c",
   "metadata": {},
   "source": [
    "The limit at any other point like x=1 can be computed as well."
   ]
  },
  {
   "cell_type": "code",
   "execution_count": 18,
   "id": "a03b3f32-e626-45a0-bcfa-b64cca4bbe61",
   "metadata": {},
   "outputs": [
    {
     "data": {
      "text/plain": [
       "4.27717686799712"
      ]
     },
     "execution_count": 18,
     "metadata": {},
     "output_type": "execute_result"
    }
   ],
   "source": [
    "limit(f(x), x=1).n()"
   ]
  },
  {
   "cell_type": "markdown",
   "id": "30f095da-e4e9-4042-b972-da26f58fd5bf",
   "metadata": {},
   "source": [
    "The derivative of the f(x) can be computed in the following way."
   ]
  },
  {
   "cell_type": "code",
   "execution_count": 31,
   "id": "ce4daa17-1b36-437c-bfab-5eabed901f72",
   "metadata": {
    "tags": []
   },
   "outputs": [
    {
     "data": {
      "text/html": [
       "<html>\\(\\displaystyle f': x \\ {\\mapsto}\\ 2 \\, x^{2} \\cos\\left(2 \\, x\\right) - x^{2} e^{\\left(-x\\right)} + 2 \\, x e^{\\left(-x\\right)} + 2 \\, x \\sin\\left(2 \\, x\\right) + 2 \\, x - 1\\)</html>"
      ],
      "text/latex": [
       "$\\displaystyle f': x \\ {\\mapsto}\\ 2 \\, x^{2} \\cos\\left(2 \\, x\\right) - x^{2} e^{\\left(-x\\right)} + 2 \\, x e^{\\left(-x\\right)} + 2 \\, x \\sin\\left(2 \\, x\\right) + 2 \\, x - 1$"
      ],
      "text/plain": [
       "f': x \\ {\\mapsto}\\ 2 \\, x^{2} \\cos\\left(2 \\, x\\right) - x^{2} e^{\\left(-x\\right)} + 2 \\, x e^{\\left(-x\\right)} + 2 \\, x \\sin\\left(2 \\, x\\right) + 2 \\, x - 1"
      ]
     },
     "metadata": {},
     "output_type": "display_data"
    }
   ],
   "source": [
    "df = diff(f) # similarly f.derivative() works, too.\n",
    "show(\"f':\" + latex(df))"
   ]
  },
  {
   "cell_type": "markdown",
   "id": "51ecba63-2f5e-439d-99eb-d5ba35b06f66",
   "metadata": {},
   "source": [
    "To compute second and higher derivatives add the order as a second parameter. The second derivative is therefore:"
   ]
  },
  {
   "cell_type": "code",
   "execution_count": 30,
   "id": "180227a3-ef06-4128-9fda-6b4c653ffca7",
   "metadata": {},
   "outputs": [
    {
     "data": {
      "text/html": [
       "<html>\\(\\displaystyle f'': x \\ {\\mapsto}\\ x^{2} e^{\\left(-x\\right)} - 4 \\, x^{2} \\sin\\left(2 \\, x\\right) + 8 \\, x \\cos\\left(2 \\, x\\right) - 4 \\, x e^{\\left(-x\\right)} + 2 \\, e^{\\left(-x\\right)} + 2 \\, \\sin\\left(2 \\, x\\right) + 2\\)</html>"
      ],
      "text/latex": [
       "$\\displaystyle f'': x \\ {\\mapsto}\\ x^{2} e^{\\left(-x\\right)} - 4 \\, x^{2} \\sin\\left(2 \\, x\\right) + 8 \\, x \\cos\\left(2 \\, x\\right) - 4 \\, x e^{\\left(-x\\right)} + 2 \\, e^{\\left(-x\\right)} + 2 \\, \\sin\\left(2 \\, x\\right) + 2$"
      ],
      "text/plain": [
       "f'': x \\ {\\mapsto}\\ x^{2} e^{\\left(-x\\right)} - 4 \\, x^{2} \\sin\\left(2 \\, x\\right) + 8 \\, x \\cos\\left(2 \\, x\\right) - 4 \\, x e^{\\left(-x\\right)} + 2 \\, e^{\\left(-x\\right)} + 2 \\, \\sin\\left(2 \\, x\\right) + 2"
      ]
     },
     "metadata": {},
     "output_type": "display_data"
    }
   ],
   "source": [
    "df2 = f.derivative(2)\n",
    "show(\"f'':\" + latex(df2))"
   ]
  },
  {
   "cell_type": "markdown",
   "id": "106b177d-6d47-4fe9-b124-20fabf3f1d19",
   "metadata": {},
   "source": [
    "The indefinite integral is computed by using integral or integrate:"
   ]
  },
  {
   "cell_type": "code",
   "execution_count": 32,
   "id": "8893b177-9f2d-4f82-8178-0f75f4917537",
   "metadata": {},
   "outputs": [
    {
     "data": {
      "text/plain": [
       "x |--> 1/3*x^3 - 1/2*x^2 - 1/4*(2*x^2 - 1)*cos(2*x) - (x^2 + 2*x + 2)*e^(-x) + 1/2*x*sin(2*x) + 3*x"
      ]
     },
     "execution_count": 32,
     "metadata": {},
     "output_type": "execute_result"
    }
   ],
   "source": [
    "f.integral(x)"
   ]
  },
  {
   "cell_type": "markdown",
   "id": "afdcee12-793c-4536-8bb4-e89385e23446",
   "metadata": {
    "tags": []
   },
   "source": [
    "The definite integral from 0 to 1 is numerically evaluated applying n()."
   ]
  },
  {
   "cell_type": "code",
   "execution_count": 33,
   "id": "273abed0-074e-4981-9a30-da682b7d2b08",
   "metadata": {},
   "outputs": [
    {
     "data": {
      "text/plain": [
       "3.30262155002575"
      ]
     },
     "execution_count": 33,
     "metadata": {},
     "output_type": "execute_result"
    }
   ],
   "source": [
    "f.integrate(x,0,1).n()"
   ]
  },
  {
   "cell_type": "markdown",
   "id": "2ca2af9b-5b3d-49d8-979e-d99287a4a4f9",
   "metadata": {},
   "source": [
    "A Taylor expansion of f can be evaluated at a specific value to a given order."
   ]
  },
  {
   "cell_type": "code",
   "execution_count": 34,
   "id": "fc7cfca5-d4cc-4d1e-8026-1da451e4c279",
   "metadata": {},
   "outputs": [
    {
     "data": {
      "text/plain": [
       "x |--> -3/2*x^5 + 1/2*x^4 + x^3 + 2*x^2 - x + 3"
      ]
     },
     "execution_count": 34,
     "metadata": {},
     "output_type": "execute_result"
    }
   ],
   "source": [
    "f.taylor(x,0,5)"
   ]
  },
  {
   "cell_type": "markdown",
   "id": "4c5f17d2-48ca-4154-bc4a-bdfdca154791",
   "metadata": {
    "tags": []
   },
   "source": [
    "## Limits\n",
    "\n",
    "**Problem:** \n",
    "$$\n",
    "\\lim_{x \\to 0} \\frac{(cos(x)-1)}{x^2}\n",
    "$$\n",
    "\n",
    "This function is not defined at x = 0 but a plot of it shows, that the limit can be found there."
   ]
  },
  {
   "cell_type": "code",
   "execution_count": 54,
   "id": "cccf9755-feb4-4fcb-8c19-1171bff40b76",
   "metadata": {
    "tags": []
   },
   "outputs": [],
   "source": [
    "#show(latex(\"\\lim {x \\to 0} \\frac{1}{2}\"))"
   ]
  },
  {
   "cell_type": "code",
   "execution_count": 66,
   "id": "4efd07e4-fe32-46ce-9565-e8ec97e85aad",
   "metadata": {},
   "outputs": [
    {
     "data": {
      "text/html": [
       "<html>\\(\\displaystyle \\verb|f:| x \\ {\\mapsto}\\ \\frac{\\cos\\left(x\\right) - 1}{x^{2}}\\)</html>"
      ],
      "text/latex": [
       "$\\displaystyle \\verb|f:| x \\ {\\mapsto}\\ \\frac{\\cos\\left(x\\right) - 1}{x^{2}}$"
      ],
      "text/plain": [
       "'f:' x \\ {\\mapsto}\\ \\frac{\\cos\\left(x\\right) - 1}{x^{2}}"
      ]
     },
     "metadata": {},
     "output_type": "display_data"
    },
    {
     "data": {
      "image/png": "[encoded data removed]",
      "text/plain": [
       "Graphics object consisting of 1 graphics primitive"
      ]
     },
     "execution_count": 66,
     "metadata": {},
     "output_type": "execute_result"
    }
   ],
   "source": [
    "f(x) = (cos(x)-1)/x^2\n",
    "show('f:'+latex(f))\n",
    "f.plot(-2,2,figsize=4)"
   ]
  },
  {
   "cell_type": "code",
   "execution_count": 58,
   "id": "e0424504-7628-4c11-99c1-3b7e4f4b95dc",
   "metadata": {},
   "outputs": [
    {
     "data": {
      "text/plain": [
       "-1/2"
      ]
     },
     "execution_count": 58,
     "metadata": {},
     "output_type": "execute_result"
    }
   ],
   "source": [
    "limit(f(x),x=0,dir='+') # Right hand limit"
   ]
  },
  {
   "cell_type": "markdown",
   "id": "fb6e7080-6911-4490-9e90-9fb0cd5e96d0",
   "metadata": {},
   "source": [
    "Similarly the left hand limit gives"
   ]
  },
  {
   "cell_type": "code",
   "execution_count": 59,
   "id": "2d8f03b1-da28-4987-b621-d769a7a662fb",
   "metadata": {},
   "outputs": [
    {
     "data": {
      "text/plain": [
       "-1/2"
      ]
     },
     "execution_count": 59,
     "metadata": {},
     "output_type": "execute_result"
    }
   ],
   "source": [
    "limit(f(x),x=0,dir='-') # Left hand limit"
   ]
  },
  {
   "cell_type": "raw",
   "id": "c3c6ab4a-9ba1-4f68-ac05-d075d77c1c92",
   "metadata": {
    "tags": []
   },
   "source": [
    "For this function the direction needs not to be specified. The limit at x=0 is:"
   ]
  },
  {
   "cell_type": "code",
   "execution_count": 60,
   "id": "fe88e4d7-6be4-499b-870c-89e4fcc85b83",
   "metadata": {},
   "outputs": [
    {
     "data": {
      "text/plain": [
       "-1/2"
      ]
     },
     "execution_count": 60,
     "metadata": {},
     "output_type": "execute_result"
    }
   ],
   "source": [
    "limit(f(x),x=0) # Limit"
   ]
  },
  {
   "cell_type": "markdown",
   "id": "d79580c7-7d3e-4224-9ad7-1bf552bd4081",
   "metadata": {
    "tags": []
   },
   "source": [
    "Therefore this is a continous function.\n",
    "\n",
    "**Problem:** \n",
    "$$\n",
    "\\lim_{x \\to 0} x^2\\cos(20\\pi x)\n",
    "$$\n",
    "\n",
    "Again to find the limit of this function let us define and plot the function."
   ]
  },
  {
   "cell_type": "code",
   "execution_count": 71,
   "id": "17e25529-07b7-4eb6-9551-c1da9dc7f03c",
   "metadata": {
    "collapsed": true,
    "jupyter": {
     "outputs_hidden": true
    },
    "tags": []
   },
   "outputs": [
    {
     "data": {
      "text/html": [
       "<html>\\(\\displaystyle \\verb|f:| x \\ {\\mapsto}\\ x^{2} \\cos\\left(20 \\, \\pi x\\right)\\)</html>"
      ],
      "text/latex": [
       "$\\displaystyle \\verb|f:| x \\ {\\mapsto}\\ x^{2} \\cos\\left(20 \\, \\pi x\\right)$"
      ],
      "text/plain": [
       "'f:' x \\ {\\mapsto}\\ x^{2} \\cos\\left(20 \\, \\pi x\\right)"
      ]
     },
     "metadata": {},
     "output_type": "display_data"
    },
    {
     "data": {
      "image/png": "[encoded data removed]",
      "text/plain": [
       "Graphics object consisting of 1 graphics primitive"
      ]
     },
     "execution_count": 71,
     "metadata": {},
     "output_type": "execute_result"
    }
   ],
   "source": [
    "f(x) = x^2*cos(20*pi*x)\n",
    "show('f:'+latex(f))\n",
    "f.plot(-1,1,figsize=4)"
   ]
  },
  {
   "cell_type": "markdown",
   "id": "8776496d-1a61-4b57-96c5-b287c26121b1",
   "metadata": {},
   "source": [
    "The graph should stay btw. $x^2$ and $-x^2$, but let's plot the graph."
   ]
  },
  {
   "cell_type": "code",
   "execution_count": 72,
   "id": "6ef461b1-c44a-4693-84c3-6e1fc5a65238",
   "metadata": {},
   "outputs": [
    {
     "data": {
      "image/png": "[encoded data removed]",
      "text/plain": [
       "Graphics object consisting of 3 graphics primitives"
      ]
     },
     "metadata": {},
     "output_type": "display_data"
    }
   ],
   "source": [
    "p = f.plot(-1,1,color='green',legend_label='f')\n",
    "p1 = plot(x^2,-1,1,color='red',legend_label='x^2')\n",
    "p2 = plot(-x^2,-1,1,color='blue',legend_label='xx^2')\n",
    "show(p+p1+p2,figsize=4)"
   ]
  },
  {
   "cell_type": "markdown",
   "id": "59d8e093-1a4d-4e11-9620-dce8d56a6fee",
   "metadata": {},
   "source": [
    "The limit of above function at x=0 seems to be zero."
   ]
  },
  {
   "cell_type": "code",
   "execution_count": 74,
   "id": "bbe77adc-dea0-462f-baf5-f68456b14878",
   "metadata": {},
   "outputs": [
    {
     "data": {
      "text/plain": [
       "0"
      ]
     },
     "execution_count": 74,
     "metadata": {},
     "output_type": "execute_result"
    }
   ],
   "source": [
    "limit(f(x),x=0)"
   ]
  },
  {
   "cell_type": "markdown",
   "id": "bfeb15e0-3697-49d5-8d58-c7d2ff308cf3",
   "metadata": {},
   "source": [
    "**Exploratory Problem**\n",
    "$$\n",
    "f(x)=\\frac{x}{2^x+x+cos(x)}\n",
    "$$ \n",
    "Let us explore this function at various points:"
   ]
  },
  {
   "cell_type": "code",
   "execution_count": 83,
   "id": "b9876b7d-df9a-40ec-84c3-269b207f736e",
   "metadata": {},
   "outputs": [
    {
     "data": {
      "text/html": [
       "<html>\\(\\displaystyle \\verb|f:| x \\ {\\mapsto}\\ \\frac{x}{2^{x} + x + \\cos\\left(x\\right)}\\)</html>"
      ],
      "text/latex": [
       "$\\displaystyle \\verb|f:| x \\ {\\mapsto}\\ \\frac{x}{2^{x} + x + \\cos\\left(x\\right)}$"
      ],
      "text/plain": [
       "'f:' x \\ {\\mapsto}\\ \\frac{x}{2^{x} + x + \\cos\\left(x\\right)}"
      ]
     },
     "metadata": {},
     "output_type": "display_data"
    },
    {
     "data": {
      "image/png": "[encoded data removed]",
      "text/plain": [
       "Graphics object consisting of 1 graphics primitive"
      ]
     },
     "execution_count": 83,
     "metadata": {},
     "output_type": "execute_result"
    }
   ],
   "source": [
    "f(x)=x/(2^x+x+cos(x))\n",
    "show('f:'+latex(f))\n",
    "f.plot(-10,10,ymax=60,ymin=-30,figsize=5)\n"
   ]
  },
  {
   "cell_type": "markdown",
   "id": "af3e08f9-e6a0-4488-b0dc-b1fc7cdd0d38",
   "metadata": {
    "tags": []
   },
   "source": [
    "Analyze the function at -infinity, at one and at +infinity."
   ]
  },
  {
   "cell_type": "code",
   "execution_count": 87,
   "id": "599ef326-9a0f-4d07-a80d-ab2e68267a43",
   "metadata": {},
   "outputs": [
    {
     "data": {
      "text/plain": [
       "1"
      ]
     },
     "execution_count": 87,
     "metadata": {},
     "output_type": "execute_result"
    }
   ],
   "source": [
    "limit(f(x),x=-oo)"
   ]
  },
  {
   "cell_type": "code",
   "execution_count": 89,
   "id": "be83058c-392c-4f7e-8d44-2bb58de5d6cf",
   "metadata": {},
   "outputs": [
    {
     "data": {
      "image/png": "[encoded data removed]",
      "text/plain": [
       "Graphics object consisting of 1 graphics primitive"
      ]
     },
     "execution_count": 89,
     "metadata": {},
     "output_type": "execute_result"
    }
   ],
   "source": [
    "plot(f(x),-200,0,ymax=2,ymin=-3,figsize=5)"
   ]
  },
  {
   "cell_type": "code",
   "execution_count": 91,
   "id": "93ae53bf-1c07-46f5-920d-c4180df942f6",
   "metadata": {},
   "outputs": [
    {
     "data": {
      "text/plain": [
       "0"
      ]
     },
     "execution_count": 91,
     "metadata": {},
     "output_type": "execute_result"
    }
   ],
   "source": [
    "limit(f(x),x=oo)"
   ]
  },
  {
   "cell_type": "code",
   "execution_count": 94,
   "id": "b7d1c46b-bece-44a2-bb06-793ab3b74362",
   "metadata": {},
   "outputs": [
    {
     "data": {
      "image/png": "[encoded data removed]",
      "text/plain": [
       "Graphics object consisting of 1 graphics primitive"
      ]
     },
     "execution_count": 94,
     "metadata": {},
     "output_type": "execute_result"
    }
   ],
   "source": [
    "plot(f(x),0,100,ymax=2,ymin=-3,figsize=5)"
   ]
  },
  {
   "cell_type": "code",
   "execution_count": 95,
   "id": "bd05a093-4114-46e6-bae2-be11cd800263",
   "metadata": {},
   "outputs": [
    {
     "data": {
      "image/png": "[encoded data removed]",
      "text/plain": [
       "Graphics object consisting of 1 graphics primitive"
      ]
     },
     "execution_count": 95,
     "metadata": {},
     "output_type": "execute_result"
    }
   ],
   "source": [
    "plot(f(x),-1.2,-0.8,ymax=100,ymin=-100,figsize=5)"
   ]
  },
  {
   "cell_type": "markdown",
   "id": "5068b58b-41d1-4483-a5e6-1acb247b0c3a",
   "metadata": {},
   "source": [
    "Where the denominator becomes zero a f becomes singular. Then let's find the root of f."
   ]
  },
  {
   "cell_type": "code",
   "execution_count": 96,
   "id": "544ecec4-aff1-4537-bbed-e560b51815c4",
   "metadata": {},
   "outputs": [
    {
     "data": {
      "text/plain": [
       "-1.018396440652349"
      ]
     },
     "execution_count": 96,
     "metadata": {},
     "output_type": "execute_result"
    }
   ],
   "source": [
    "g(x)=2^x+x+cos(x)\n",
    "c1=g.find_root(-2,0)\n",
    "c1"
   ]
  },
  {
   "cell_type": "markdown",
   "id": "13a3eba4-526f-4df8-bb03-3935d2715fc2",
   "metadata": {},
   "source": [
    "The left hand limit of this function is"
   ]
  },
  {
   "cell_type": "code",
   "execution_count": 97,
   "id": "790f0811-5787-41c1-96a9-0030b71071db",
   "metadata": {},
   "outputs": [
    {
     "data": {
      "text/plain": [
       "3057633220424905.0"
      ]
     },
     "execution_count": 97,
     "metadata": {},
     "output_type": "execute_result"
    }
   ],
   "source": [
    "limit(f(x),x=c1,dir='-')"
   ]
  },
  {
   "cell_type": "markdown",
   "id": "274a759c-cdf3-4417-9ffb-56ee8a9c471c",
   "metadata": {},
   "source": [
    "Its right hand limit is"
   ]
  },
  {
   "cell_type": "code",
   "execution_count": 98,
   "id": "7df2ef5c-bf45-43c4-b238-73351979aaf0",
   "metadata": {},
   "outputs": [
    {
     "data": {
      "text/plain": [
       "3057633220424905.0"
      ]
     },
     "execution_count": 98,
     "metadata": {},
     "output_type": "execute_result"
    }
   ],
   "source": [
    "limit(f(x),x=c1,dir='+')"
   ]
  },
  {
   "cell_type": "markdown",
   "id": "95917340-fc06-468d-8e80-dc42cb214a2a",
   "metadata": {},
   "source": [
    "This contradicts the result of above graph and therefore one intuitively should be careful of the limits found by this approximation."
   ]
  },
  {
   "cell_type": "markdown",
   "id": "d2e5b30e-223f-483d-b809-7091319b83d4",
   "metadata": {},
   "source": [
    "## Piecewise defined function\n",
    "\n",
    "**Example:** \n",
    "$$\n",
    "f(x)=\\left\\{\n",
    "  \\begin{array}{ll}\n",
    "    1+x &x& \\in (-2,-1)\\\\\n",
    "    x^2 &x& \\in [-1,1]\\\\\n",
    "    2-x &x& \\in (1,2)\n",
    "  \\end{array}\n",
    "\\right.\n",
    "$$"
   ]
  },
  {
   "cell_type": "code",
   "execution_count": 2,
   "id": "7886a424-3b79-4148-95ca-b784b9755f52",
   "metadata": {},
   "outputs": [
    {
     "data": {
      "image/png": "[encoded data removed]",
      "text/plain": [
       "Graphics object consisting of 3 graphics primitives"
      ]
     },
     "execution_count": 2,
     "metadata": {},
     "output_type": "execute_result"
    }
   ],
   "source": [
    "f1(x)=1+x\n",
    "f2(x)=x^2\n",
    "f3(x)=2-x\n",
    "f(x)=piecewise([[(-2,-1),f1],[[-1,1],f2],[(1,2),f3]])\n",
    "\n",
    "f.plot(-2,2,exclude=[-1,1],figsize=4)"
   ]
  },
  {
   "cell_type": "markdown",
   "id": "a12d9ded-b591-4dc4-a35d-15e29e4a762c",
   "metadata": {},
   "source": [
    "In this case the limits have to be explored component-wise for each piece of the function f1, f2, and f3."
   ]
  },
  {
   "cell_type": "markdown",
   "id": "023ea047-8a73-4350-9f91-c76d240ff2b9",
   "metadata": {},
   "source": [
    "**Exercise** Explore the limit of\n",
    "$$\n",
    "f(x)=\\frac{x^2+1}{3x-2x^2}\n",
    "$$"
   ]
  },
  {
   "cell_type": "markdown",
   "id": "399d8108-0fd4-45e9-a99f-9c60188d2c94",
   "metadata": {},
   "source": [
    "## Limit of sequences"
   ]
  },
  {
   "cell_type": "markdown",
   "id": "2505b2be-94b9-4131-880f-39a12ebc9518",
   "metadata": {},
   "source": [
    "**Definition** A sequence of real numbers is nothing but a function $f: \\mathbb{N} \\rightarrow \\mathbb{R}$."
   ]
  },
  {
   "cell_type": "code",
   "execution_count": 10,
   "id": "820b59d7-0da7-4202-9fcc-50f86671b75e",
   "metadata": {},
   "outputs": [
    {
     "data": {
      "text/html": [
       "<html><script type=\"math/tex; mode=display\">\\newcommand{\\Bold}[1]{\\mathbf{#1}}-\\frac{{\\left(n^{2} - 5\\right)} {\\left(\\frac{\\left(-1\\right)^{n}}{n} - 1\\right)}}{n^{2} - 2 \\, n - 5}</script></html>"
      ],
      "text/latex": [
       "$$\\newcommand{\\Bold}[1]{\\mathbf{#1}}-\\frac{{\\left(n^{2} - 5\\right)} {\\left(\\frac{\\left(-1\\right)^{n}}{n} - 1\\right)}}{n^{2} - 2 \\, n - 5}$$"
      ],
      "text/plain": [
       "-(n^2 - 5)*((-1)^n/n - 1)/(n^2 - 2*n - 5)"
      ]
     },
     "metadata": {},
     "output_type": "display_data"
    }
   ],
   "source": [
    "n=var('n')\n",
    "a(n)=(1-(-1)^n/n)*(n^2-5)/(n^2-2*n-5)\n",
    "#show('a:'+latex(a))\n",
    "show(a(n))"
   ]
  },
  {
   "cell_type": "code",
   "execution_count": 13,
   "id": "94a7c5a7-25a6-4de9-92f1-32a98becfd74",
   "metadata": {},
   "outputs": [
    {
     "data": {
      "image/png": "[encoded data removed]",
      "text/plain": [
       "Graphics object consisting of 2 graphics primitives"
      ]
     },
     "execution_count": 13,
     "metadata": {},
     "output_type": "execute_result"
    }
   ],
   "source": [
    "N=100\n",
    "pts = [(n,a(n)) for n in range(1,N)]\n",
    "points(pts,size=5)+plot(1,0,N,color='red')"
   ]
  },
  {
   "cell_type": "code",
   "execution_count": 16,
   "id": "5e6560ad-7a50-40a3-9dfb-38ec916f5351",
   "metadata": {},
   "outputs": [
    {
     "data": {
      "image/png": "[encoded data removed]",
      "text/plain": [
       "Graphics object consisting of 4 graphics primitives"
      ]
     },
     "metadata": {},
     "output_type": "display_data"
    }
   ],
   "source": [
    "N=100\n",
    "epsilon=0.1\n",
    "a=1\n",
    "seq=points(pts,size=5)\n",
    "lm=plot(a,0,N,color='black')\n",
    "lb=plot(a-epsilon,0,N,color='red',linestyle='--')\n",
    "ub=plot(a+epsilon,0,N,color='red',linestyle='--')\n",
    "show(seq+lm+lb+ub,ymax=1.5,ymin=0.5)"
   ]
  },
  {
   "cell_type": "markdown",
   "id": "ef5643e4-121f-45eb-9a7f-8da680909e37",
   "metadata": {},
   "source": [
    "This leads to the limit of a sequence:\n",
    "\n",
    "**Limit of a sequence:** \n",
    "\n",
    "A sequence $(x_n)$ of real numbers converges to a real number $a$ if for every $\\epsilon \\gt 0$ there exists a natureal Number $N$ such that for for all $k \\le N$, we have,\n",
    "$$\n",
    "|x_k-a| \\lt \\epsilon,\n",
    "$$\n",
    "that is for all $k\\ge N, x_n \\in (a-\\epsilon,a+\\epsilon)$."
   ]
  },
  {
   "cell_type": "markdown",
   "id": "bb4f368c-a3e1-475f-9d78-4b8304c74156",
   "metadata": {},
   "source": [
    "**Problem:**\n",
    "$$\n",
    "\\lim_{n \\to oo} \\biggl(1+\\frac{1}{n}\\biggr)^n\n",
    "$$"
   ]
  },
  {
   "cell_type": "code",
   "execution_count": 26,
   "id": "9bbfe226-a8f4-423d-b08f-d522df36e77b",
   "metadata": {},
   "outputs": [],
   "source": [
    "n=var('n')\n",
    "f(n)=(1+1/n)^n"
   ]
  },
  {
   "cell_type": "code",
   "execution_count": 27,
   "id": "4db45c5a-ed33-46fd-a9f5-2fa6977dd002",
   "metadata": {},
   "outputs": [
    {
     "data": {
      "image/png": "[encoded data removed]",
      "text/plain": [
       "Graphics object consisting of 1 graphics primitive"
      ]
     },
     "execution_count": 27,
     "metadata": {},
     "output_type": "execute_result"
    }
   ],
   "source": [
    "N=100\n",
    "pts=[(n,f(n)) for n in range(1,N)]\n",
    "points(pts,size=5)"
   ]
  },
  {
   "cell_type": "code",
   "execution_count": 28,
   "id": "1688910b-8249-420f-808f-145efeaf5c0a",
   "metadata": {},
   "outputs": [
    {
     "data": {
      "text/plain": [
       "e"
      ]
     },
     "execution_count": 28,
     "metadata": {},
     "output_type": "execute_result"
    }
   ],
   "source": [
    "limit(f(n),n=oo)"
   ]
  },
  {
   "cell_type": "code",
   "execution_count": 29,
   "id": "582cfb67-3f12-408b-ac2f-d75f5f9b8841",
   "metadata": {},
   "outputs": [
    {
     "data": {
      "text/plain": [
       "2.71828182845905"
      ]
     },
     "execution_count": 29,
     "metadata": {},
     "output_type": "execute_result"
    }
   ],
   "source": [
    "e.n()"
   ]
  },
  {
   "cell_type": "markdown",
   "id": "5c1c7698-3592-42b0-a171-8e37ca068216",
   "metadata": {},
   "source": [
    "**Problem:**\n",
    "$$\n",
    "\\lim_{n \\to oo} a^\\frac{1}{n} for\\; a\\gt 0\n",
    "$$"
   ]
  },
  {
   "cell_type": "code",
   "execution_count": 30,
   "id": "183591b8-6613-44e2-9259-dd7275cf9413",
   "metadata": {},
   "outputs": [
    {
     "data": {
      "text/plain": [
       "1"
      ]
     },
     "execution_count": 30,
     "metadata": {},
     "output_type": "execute_result"
    }
   ],
   "source": [
    "forget()\n",
    "var('a')\n",
    "assume(a>0)\n",
    "limit(a^(1/n),n=oo)"
   ]
  },
  {
   "cell_type": "markdown",
   "id": "2de02463-88fc-40cc-b276-c0cac42636da",
   "metadata": {},
   "source": [
    "**Exercise:** Explore the limit of $a^{1/n}$ for various values of a.\n",
    "\n",
    "**Problem:**\n",
    "$$\n",
    "a_n := \\left\\{\n",
    "  \\begin{array}{ll}\n",
    "    1/n\\qquad\\mbox{if $n$ is divisible by 3}\\\\\n",
    "    (-1)^n/2 \\;\\; \\mbox{otherwise.}\n",
    "  \\end{array}\n",
    "\\right.\n",
    "$$"
   ]
  },
  {
   "cell_type": "code",
   "execution_count": 32,
   "id": "2783e2bc-7765-4935-930b-2a979daec7da",
   "metadata": {},
   "outputs": [],
   "source": [
    "def A(n):\n",
    "    if(n%3==0):\n",
    "       return 1/n\n",
    "    else:\n",
    "       return (-1)^n/2"
   ]
  },
  {
   "cell_type": "code",
   "execution_count": 34,
   "id": "9fa728fc-a435-4a0c-bc15-a9fdd52acd30",
   "metadata": {},
   "outputs": [
    {
     "data": {
      "image/png": "[encoded data removed]",
      "text/plain": [
       "Graphics object consisting of 1 graphics primitive"
      ]
     },
     "execution_count": 34,
     "metadata": {},
     "output_type": "execute_result"
    }
   ],
   "source": [
    "N=100\n",
    "pts=[(n,A(n)) for n in range(1,N)]\n",
    "points(pts,figsize=4,size=5)"
   ]
  },
  {
   "cell_type": "markdown",
   "id": "325d275f-1738-4e4a-8222-f67972330f6b",
   "metadata": {},
   "source": [
    "This sequence will obviously not converge."
   ]
  },
  {
   "cell_type": "markdown",
   "id": "0b093211-e87a-4cf5-9336-4db175dc8ff4",
   "metadata": {},
   "source": [
    "**Recursive sequence**\n",
    "$$\n",
    "a_1=1, a_{n+1}=\\frac{1}{2}\\biggl(a_n+\\frac{2}{a_n}\\biggr), n = 1,2,3,\\ldots\n",
    "$$"
   ]
  },
  {
   "cell_type": "code",
   "execution_count": 36,
   "id": "e982f7ae-363d-4bff-8f9c-95c869a4b41f",
   "metadata": {},
   "outputs": [],
   "source": [
    "def Y(n,D={}):\n",
    "    if n in D.keys():\n",
    "        return D[n]\n",
    "    else:\n",
    "        if(n==1):\n",
    "            result=1\n",
    "        else:\n",
    "            result=1/2*(Y(n-1)+2/Y(n-1))\n",
    "    D[n]=result\n",
    "    return result"
   ]
  },
  {
   "cell_type": "code",
   "execution_count": 40,
   "id": "a6ac0aca-9e16-4004-b901-843d0d5fd35a",
   "metadata": {},
   "outputs": [
    {
     "data": {
      "text/plain": [
       "1.41421356237310"
      ]
     },
     "execution_count": 40,
     "metadata": {},
     "output_type": "execute_result"
    }
   ],
   "source": [
    "Y(20).n()"
   ]
  },
  {
   "cell_type": "code",
   "execution_count": 42,
   "id": "802c3d75-14ed-4817-b6e3-36dd245d33aa",
   "metadata": {},
   "outputs": [
    {
     "data": {
      "image/png": "[encoded data removed]",
      "text/plain": [
       "Graphics object consisting of 1 graphics primitive"
      ]
     },
     "execution_count": 42,
     "metadata": {},
     "output_type": "execute_result"
    }
   ],
   "source": [
    "N=20\n",
    "pts=[(n,Y(n)) for n in range(1,N)]\n",
    "points(pts,figsize=4)"
   ]
  },
  {
   "cell_type": "code",
   "execution_count": 44,
   "id": "d5d6e8c4-0ed7-40ce-9233-c790652294b0",
   "metadata": {},
   "outputs": [
    {
     "data": {
      "text/plain": [
       "[x == -sqrt(2), x == sqrt(2)]"
      ]
     },
     "execution_count": 44,
     "metadata": {},
     "output_type": "execute_result"
    }
   ],
   "source": [
    "solve(x==1/2*(x+2/x),x)"
   ]
  },
  {
   "cell_type": "markdown",
   "id": "33b80890-7c0b-4007-aff9-fa61831448a7",
   "metadata": {},
   "source": [
    "The terms of the sequence are all positive therefore the negative root of 2 cannot be the limit."
   ]
  }
 ],
 "metadata": {
  "kernelspec": {
   "display_name": "SageMath 9.7",
   "language": "sage",
   "name": "sagemath"
  },
  "language_info": {
   "codemirror_mode": {
    "name": "ipython",
    "version": 3
   },
   "file_extension": ".py",
   "mimetype": "text/x-python",
   "name": "python",
   "nbconvert_exporter": "python",
   "pygments_lexer": "ipython3",
   "version": "3.9.13"
  }
 },
 "nbformat": 4,
 "nbformat_minor": 5
}

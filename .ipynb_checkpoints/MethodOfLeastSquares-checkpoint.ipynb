{
 "cells": [
  {
   "cell_type": "markdown",
   "id": "abb6d5db-3d99-49b5-b9e2-5f5d7c6270ab",
   "metadata": {},
   "source": [
    "# Method of Least Squares"
   ]
  },
  {
   "cell_type": "code",
   "execution_count": 33,
   "id": "4e9ad3f0-4a9f-418e-ab32-81a09823b599",
   "metadata": {},
   "outputs": [
    {
     "data": {
      "text/html": [
       "<html>\\(\\displaystyle \\verb|y:| x \\ {\\mapsto}\\ b x + a\\)</html>"
      ],
      "text/latex": [
       "$\\displaystyle \\verb|y:| x \\ {\\mapsto}\\ b x + a$"
      ],
      "text/plain": [
       "'y:' x \\ {\\mapsto}\\ b x + a"
      ]
     },
     "metadata": {},
     "output_type": "display_data"
    }
   ],
   "source": [
    "var('a,b')\n",
    "y(x)=a+b*x\n",
    "show('y:',latex(y))"
   ]
  },
  {
   "cell_type": "code",
   "execution_count": 37,
   "id": "5eceeab0-f8fd-43b1-8011-7ea61806b906",
   "metadata": {},
   "outputs": [
    {
     "data": {
      "text/html": [
       "<html>\\(\\displaystyle Xsq: \\left( a, b \\right) \\ {\\mapsto} \\ {\\left(a x_{1} + b - y_{1}\\right)}^{2}\\)</html>"
      ],
      "text/latex": [
       "$\\displaystyle Xsq: \\left( a, b \\right) \\ {\\mapsto} \\ {\\left(a x_{1} + b - y_{1}\\right)}^{2}$"
      ],
      "text/plain": [
       "Xsq: \\left( a, b \\right) \\ {\\mapsto} \\ {\\left(a x_{1} + b - y_{1}\\right)}^{2}"
      ]
     },
     "metadata": {},
     "output_type": "display_data"
    }
   ],
   "source": [
    "var('x1,x2,x3,x4,y1,y2,y3,y4')\n",
    "Xsq(a,b)= (y1-a*x1-b)^2 #+ (y2-a*x2-b)^2 + (y3-a*x3-b)^2 + (y4-a*x4-b)^2\n",
    "show('Xsq:' + latex(Xsq))"
   ]
  },
  {
   "cell_type": "code",
   "execution_count": 57,
   "id": "16223ab0-b25a-4e0a-8958-c339be5baeb0",
   "metadata": {},
   "outputs": [],
   "source": [
    "eq1 = Xsq.diff(a).simplify_full()\n",
    "eq2 = Xsq.diff(b).simplify_full()"
   ]
  },
  {
   "cell_type": "code",
   "execution_count": 58,
   "id": "082823e9-6548-4039-8062-b4087b6a8f7c",
   "metadata": {},
   "outputs": [
    {
     "name": "stdout",
     "output_type": "stream",
     "text": [
      "2*a*x1^2 + 2*b*x1 - 2*x1*y1\n",
      "2*a*x1 + 2*b - 2*y1\n"
     ]
    }
   ],
   "source": [
    "print(eq1)\n",
    "print(eq2)"
   ]
  },
  {
   "cell_type": "code",
   "execution_count": 59,
   "id": "6e2d9b71-cac4-4cd4-b22f-14cacdb83daf",
   "metadata": {},
   "outputs": [],
   "source": [
    "#matrix([eq1,eq2])"
   ]
  },
  {
   "cell_type": "code",
   "execution_count": null,
   "id": "98bfd988-1085-4bb9-a28d-edfec24281bf",
   "metadata": {},
   "outputs": [],
   "source": []
  }
 ],
 "metadata": {
  "kernelspec": {
   "display_name": "SageMath 9.7",
   "language": "sage",
   "name": "sagemath"
  },
  "language_info": {
   "codemirror_mode": {
    "name": "ipython",
    "version": 3
   },
   "file_extension": ".py",
   "mimetype": "text/x-python",
   "name": "python",
   "nbconvert_exporter": "python",
   "pygments_lexer": "ipython3",
   "version": "3.9.13"
  }
 },
 "nbformat": 4,
 "nbformat_minor": 5
}

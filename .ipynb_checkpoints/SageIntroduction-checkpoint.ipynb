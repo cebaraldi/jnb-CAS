{
 "cells": [
  {
   "cell_type": "code",
   "execution_count": null,
   "id": "d7122c6c-985c-47f6-b245-8b750621a1b3",
   "metadata": {},
   "outputs": [],
   "source": []
  }
 ],
 "metadata": {
  "kernelspec": {
   "display_name": "SageMath 9.7",
   "language": "sage",
   "name": "sagemath"
  },
  "language_info": {
   "name": ""
  }
 },
 "nbformat": 4,
 "nbformat_minor": 5
}
